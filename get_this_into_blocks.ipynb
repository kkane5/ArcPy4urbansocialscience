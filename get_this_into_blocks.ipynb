{
 "cells": [
  {
   "cell_type": "markdown",
   "metadata": {},
   "source": [
    "Copyright 2017, Kevin Kane. This program is distributed under the terms of the GNU General Public License.\n"
   ]
  },
  {
   "cell_type": "markdown",
   "metadata": {},
   "source": [
    "## Get This Into Blocks!!!"
   ]
  },
  {
   "cell_type": "markdown",
   "metadata": {},
   "source": [
    "*Often times in social science research we need to join data \"up\" to larger units of analysis. For example, data on crime, business establishments, or property transactions is geocoded to a point, but we are interested in analyzing how that information varies over blocks or census tracts.*\n",
    "\n",
    "*This script takes a point shapefile and aggregates the points as an attribute of a shapefile of Census Blocks. This code can be executed (with the least amount of setup) using the python terminal in ArcGIS. ArcCatalog is recommended since ArcMap will generally render intermediate layers.* \n",
    "\n",
    "*Please note that each original shapefile has been given a unique identifier of **FIDnum.** This is necesarry for the numpy-based step of joining the aggregated point totals back into blocks, so please ensure that a unique identifier field is used or that a field called FIDnum is made.*"
   ]
  },
  {
   "cell_type": "markdown",
   "metadata": {},
   "source": [
    "** This tutorial contains four sections. Run the preamble and file declaration codeblocks, then one of these:**\n",
    "\n",
    "(1) How many points are in each block?\n",
    "\n",
    "(2) How many of a certain type of point are in each block?\n",
    "\n",
    "(3) How many of all types are in each block?\n",
    "\n",
    "(4) Sum the attributes of a point into each block"
   ]
  },
  {
   "cell_type": "code",
   "execution_count": 5,
   "metadata": {
    "collapsed": true
   },
   "outputs": [],
   "source": [
    "# Preamble to use for all the below scripts:\n",
    "import arcpy\n",
    "import numpy as np\n",
    "import datetime\n",
    "from arcpy.sa import*\n",
    "arcpy.env.overwriteOutput = True"
   ]
  },
  {
   "cell_type": "markdown",
   "metadata": {},
   "source": [
    "*The example here uses blocks in Irvine, CA (from the US Census TIGER files) and a file of points in Irvine intended to represent business establishments  business establishments from ReferenceUSA. Business establishments have a (fake) category field **bus_type** and a (fake) number of employees field **EMPfixed** *"
   ]
  },
  {
   "cell_type": "code",
   "execution_count": 22,
   "metadata": {
    "collapsed": true
   },
   "outputs": [],
   "source": [
    "# Set working directory (using double forward slashes) and files\n",
    "arcpy.env.workspace = \"C:\\\\Users\\\\Research\\\\Project\"\n",
    "points = \"\\\\Irvine_businesses_randomized.shp\"\n",
    "arcpy.MakeFeatureLayer_management(points, \"points_lyr\")\n",
    "blocks = \"\\\\Irvine_blocks.shp\"\n",
    "output = \"\\\\outfile.shp\""
   ]
  },
  {
   "cell_type": "code",
   "execution_count": 3,
   "metadata": {
    "collapsed": false
   },
   "outputs": [
    {
     "name": "stdout",
     "output_type": "stream",
     "text": [
      "start:  2017-04-17 18:07:29.049000\n",
      "end:  2017-04-17 18:07:33.652000\n"
     ]
    }
   ],
   "source": [
    "#### (1) How many points are in each block? ####\n",
    "print 'start: ', datetime.datetime.now()\n",
    "\n",
    "# Execute spatial join\n",
    "arcpy.SpatialJoin_analysis(blocks, \"points_lyr\", output, \"#\", \"#\", \"#\", \"CONTAINS\")\n",
    "ids = [row.getValue(\"FIDnum\") for row in arcpy.SearchCursor(blocks)]\n",
    "jc = [row.getValue(\"Join_Count\") for row in arcpy.SearchCursor(output)]\n",
    "array = np.array([ids, jc]).transpose()\n",
    "mytype = np.dtype([('FIDnum', np.int32), ('pts_count', np.int32)])\n",
    "myrecord = np.core.records.array(list(tuple(array.transpose())), dtype=mytype)\n",
    "arcpy.da.ExtendTable(blocks, 'FIDnum', myrecord, 'FIDnum')\n",
    "arcpy.Delete_management(output)\n",
    "print 'end: ', datetime.datetime.now()"
   ]
  },
  {
   "cell_type": "code",
   "execution_count": 9,
   "metadata": {
    "collapsed": false
   },
   "outputs": [
    {
     "name": "stdout",
     "output_type": "stream",
     "text": [
      "start:  2017-04-17 18:18:32.276000\n",
      "end:  2017-04-17 18:18:36.677000\n"
     ]
    }
   ],
   "source": [
    "#### (2) How many of a certain type of point are in each block? (e.g. only industry code 54) ####\n",
    "print 'start: ', datetime.datetime.now()\n",
    "\n",
    "# Isolate desired subset of points\n",
    "arcpy.SelectLayerByAttribute_management(\"points_lyr\", \"NEW_SELECTION\", \" \\\"NAICS2\\\" = 54 \")\n",
    "\n",
    "# Execute spatial join\n",
    "arcpy.SpatialJoin_analysis(blocks, \"points_lyr\", output, \"#\", \"#\", \"#\", \"CONTAINS\")\n",
    "ids = [row.getValue(\"FIDnum\") for row in arcpy.SearchCursor(blocks)]\n",
    "jc = [row.getValue(\"Join_Count\") for row in arcpy.SearchCursor(output)]\n",
    "array = np.array([ids, jc]).transpose()\n",
    "mytype = np.dtype([('FIDnum', np.int32), ('naics54', np.int32)])\n",
    "myrecord = np.core.records.array(list(tuple(array.transpose())), dtype=mytype)\n",
    "arcpy.da.ExtendTable(blocks, 'FIDnum', myrecord, 'FIDnum')\n",
    "arcpy.Delete_management(output)\n",
    "print 'end: ', datetime.datetime.now()"
   ]
  },
  {
   "cell_type": "code",
   "execution_count": 13,
   "metadata": {
    "collapsed": false
   },
   "outputs": [
    {
     "name": "stdout",
     "output_type": "stream",
     "text": [
      "end:  2017-04-17 18:21:49.832000\n"
     ]
    }
   ],
   "source": [
    "#### (3) How many of all types are in each block? #### \n",
    "print 'start: ', datetime.datetime.now()\n",
    "\n",
    "# Create function to identify all industry codes: \n",
    "def unique_values(table, field):\n",
    "    with arcpy.da.SearchCursor(table, [field]) as cursor:\n",
    "        return sorted({row[0] for row in cursor})\n",
    "codes = unique_values(points, \"bus_type\")\n",
    "\n",
    "# Execute spatial join FOR JUST THE FIRST FOUR INDUSTRY CODES:\n",
    "for i in codes[0:3]:\n",
    "    arcpy.SelectLayerByAttribute_management(\"points_lyr\", \"NEW_SELECTION\", \" \\\"bus_type\\\" = %s\"%i)\n",
    "    arcpy.SpatialJoin_analysis(blocks, \"points_lyr\", output, \"#\", \"#\", \"#\", \"CONTAINS\")\n",
    "    ids = [row.getValue(\"FIDnum\") for row in arcpy.SearchCursor(blocks)]\n",
    "    jc = [row.getValue(\"Join_Count\") for row in arcpy.SearchCursor(output)]\n",
    "    array = np.array([ids, jc]).transpose()\n",
    "    mytype = np.dtype([('FIDnum', np.int32), ('estab_%s'%i, np.int32)])\n",
    "    myrecord = np.core.records.array(list(tuple(array.transpose())), dtype=mytype)\n",
    "    arcpy.da.ExtendTable(blocks, 'FIDnum', myrecord, 'FIDnum')\n",
    "    arcpy.Delete_management(output)\n",
    "\n",
    "print 'end: ', datetime.datetime.now()"
   ]
  },
  {
   "cell_type": "code",
   "execution_count": null,
   "metadata": {
    "collapsed": true
   },
   "outputs": [],
   "source": [
    "#### (4) Sum the attributes of a point into each block (e.g., number of employees) ####\n",
    "print 'start: ', datetime.datetime.now()\n",
    "\n",
    "# Define field mappings \n",
    "fieldmappings = arcpy.FieldMappings()\n",
    "fieldmappings.addTable(blocks)   # target layer name\n",
    "fieldmappings.addTable(\"points_lyr\")   # join layer name\n",
    "EmpFieldIndex = fieldmappings.findFieldMapIndex(\"EMPfixed\")   # name of the points file's attribute field\n",
    "fieldmap = fieldmappings.getFieldMap(EmpFieldIndex)\n",
    "field = fieldmap.outputField\n",
    "field.name = \"sumEmp\"   # name of the output field\n",
    "fieldmap.outputField = field\n",
    "fieldmap.mergeRule = \"sum\"  # merge rule - options also include first, last, sum, mean, median, mode, min, max, count, range\n",
    "fieldmappings.replaceFieldMap(EmpFieldIndex, fieldmap)\n",
    "\n",
    "# Execute spatial join\n",
    "arcpy.SpatialJoin_analysis(blocks, \"points_lyr\", output, \"#\", \"#\", \"#\", \"CONTAINS\")\n",
    "ids = [row.getValue(\"FIDnum\") for row in arcpy.SearchCursor(blocks)]\n",
    "jc = [row.getValue(\"Join_Count\") for row in arcpy.SearchCursor(output)]\n",
    "emp = [row.getValue(\"sumEmp\") for row in arcpy.SearchCursor(output)]\n",
    "array = np.array([ids, jc, emp]).transpose()\n",
    "mytype = np.dtype([('FIDnum', np.int32), ('pts_count', np.int32), ('sumEmp', np.int32)])\n",
    "myrecord = np.core.records.array(list(tuple(array.transpose())), dtype=mytype)\n",
    "arcpy.da.ExtendTable(blocks, 'FIDnum', myrecord, 'FIDnum')\n",
    "arcpy.Delete_management(output)\n",
    "print 'end: ', datetime.datetime.now()\n",
    "\n"
   ]
  }
 ],
 "metadata": {
  "kernelspec": {
   "display_name": "Python 2",
   "language": "python",
   "name": "python2"
  },
  "language_info": {
   "codemirror_mode": {
    "name": "ipython",
    "version": 2
   },
   "file_extension": ".py",
   "mimetype": "text/x-python",
   "name": "python",
   "nbconvert_exporter": "python",
   "pygments_lexer": "ipython2",
   "version": "2.7.9"
  }
 },
 "nbformat": 4,
 "nbformat_minor": 0
}
