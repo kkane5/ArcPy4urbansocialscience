{
 "cells": [
  {
   "cell_type": "markdown",
   "metadata": {},
   "source": [
    "## How close is everything?"
   ]
  },
  {
   "cell_type": "markdown",
   "metadata": {},
   "source": [
    "*This file provides example code used for the following study of parcel-level accessibility to businesses in Long Beach, Califonria following [this paper in the Professional Geographer](http://www.tandfonline.com/doi/full/10.1080/00330124.2016.1266951) and [this Metropolitan Futures Initiative report](http://mfi.soceco.uci.edu/category/quarterly-report/relationships-between-housing-business-and-open-space/) .*\n",
    "\n",
    "*This script uses sample data for blocks and business establishments in Irvine, California. The distance from each block to each of 32 types of business establishments (denoted by the field **porter_num**) is measured in two ways: the distance to the nearest establishment of that type, and a measure of all establishments within one mile.*\n",
    "\n",
    "*The network analyst output - which is a line shapefile for each establishment type - is then joined back to the original blocks shapefile in R. The nearest establishment measure generates two attributes: distance (in feet) and drive time (in minutes) to the nearest establishment.  The count-within-a-mile measure generates three attributes: the count of establishments within 1 mile, a gravity measure using inverse distance decay, and a gravity measure using inverse squared distance decay.  See the report and paper above for details.*"
   ]
  },
  {
   "cell_type": "markdown",
   "metadata": {},
   "source": [
    "** This tutorial contains four sections. Run the preamble and file declaration codeblocks, then one of these:**\n",
    "\n",
    "(1) Run in ArcGIS.  Find the nearest establishment of each type.\n",
    "\n",
    "(2) Run in R. Nearest establishment: join Network Analyst output to block shapefile. \n",
    "\n",
    "(3) Run in ArcGIS.  Find all establishments within 1 mile. \n",
    "\n",
    "(4) Run in R. Join count of establishments in 1 mile and gravity measure to block shapefile. "
   ]
  },
  {
   "cell_type": "code",
   "execution_count": 1,
   "metadata": {
    "collapsed": false
   },
   "outputs": [
    {
     "data": {
      "text/plain": [
       "u'CheckedOut'"
      ]
     },
     "execution_count": 1,
     "metadata": {},
     "output_type": "execute_result"
    }
   ],
   "source": [
    "# Preamble to use for all the below scripts. Make sure to set your working directory as 'wkspace':\n",
    "import arcpy\n",
    "import numpy as np\n",
    "import datetime\n",
    "from arcpy.da import*\n",
    "from arcpy.sa import*\n",
    "arcpy.env.overwriteOutput = True\n",
    "arcpy.CheckOutExtension(\"Network\")\n",
    "def unique_values(table, field):\n",
    "    with arcpy.da.SearchCursor(table, [field]) as cursor:\n",
    "        return sorted({row[0] for row in cursor})\n",
    "wkspace = \"C:\\\\Users\\\\Research\\\\Project\"\n",
    "arcpy.env.workspace = wkspace"
   ]
  },
  {
   "cell_type": "code",
   "execution_count": null,
   "metadata": {
    "collapsed": true
   },
   "outputs": [],
   "source": [
    "#### (1) Find The Nearest Establishment of each type #### \n",
    "print 'start: ', datetime.datetime.now()\n",
    "\n",
    "# Read in files.  Note: network dataset is NOT found in GitHub Repository.\n",
    "nd = \"\\\\your_network_dataset\"\n",
    "establishments = \"\\\\refusa2009.shp\"\n",
    "arcpy.MakeFeatureLayer_management(establishments, \"estabs_lyr\")\n",
    "types = unique_values(establishments, \"porter_num\")\n",
    "blocks = \"\\\\Irvine_blocks.shp\"\n",
    "arcpy.MakeFeatureLayer_management(blocks, \"blocks_lyr\")\n",
    "\n",
    "# Run network analyst for each establishment type \n",
    "for i in types:\n",
    "    arcpy.SelectLayerByAttribute_management(\"estabs_lyr\", \"NEW_SELECTION\", \" \\\"porter_num\\\" = '%s' \"%i)\n",
    "    outNALayer = arcpy.na.MakeODCostMatrixLayer(nd, \"od_lyr\", \"Distance\", \"#\", 1, [\"Distance\", \"Minutes\"])\n",
    "    arcpy.na.AddLocations(\"od_lyr\", \"Origins\", \"blocks_lyr\", \"#\", \"5000 Meters\")\n",
    "    arcpy.na.AddLocations(\"od_lyr\", \"Destinations\", \"estabs_lyr\", \"#\", \"5000 Meters\")\n",
    "    arcpy.na.Solve(\"od_lyr\", \"SKIP\", \"CONTINUE\")\n",
    "    subLayerNames = arcpy.na.GetNAClassNames(outNALayer.getOutput(0))\n",
    "    lines = subLayerNames[\"ODLines\"]\n",
    "    arcpy.FeatureClassToFeatureClass_conversion(lines, wkspace, \"\\\\lines_near_%s.txt\"%i)\n",
    "\n",
    "print 'end: ', datetime.datetime.now()"
   ]
  },
  {
   "cell_type": "code",
   "execution_count": null,
   "metadata": {
    "collapsed": true
   },
   "outputs": [],
   "source": [
    "#### (2) Nearest establishment: join Network Analyst output to block shapefile in R\n",
    "\n",
    "setwd(\"C:/Users/Research/Project\")\n",
    "library(foreign)\n",
    "\n",
    "bl = read.dbf(\"Irvine_blocks.dbf\")\n",
    "bl$ESRI_na = as.numeric(bl$FIDnum + 1)\n",
    "estabs = read.dbf(\"refusa2009.dbf\")\n",
    "types = as.character(unique(unlist(estabs$porter_num))) \n",
    "types = types[!is.na(types)]\n",
    "types = types[!types %in% c(\"none\")]\n",
    "\n",
    "for(i in 1:length(types)){\n",
    "  out = read.dbf(paste(\"./lines_near_\", types[i], \".dbf\", sep=\"\"))\n",
    "  bl[,ncol(bl)+1] = out$Total_Dist[match(bl$ESRI_na, out$OriginID)]\n",
    "  colnames(bl)[ncol(bl)] = paste(\"dist_\", types[i], sep=\"\")\n",
    "  bl[,ncol(bl)+1] = out$Total_Minu[match(bl$ESRI_na, out$OriginID)]\n",
    "  colnames(bl)[ncol(bl)] = paste(\"mins_\", types[i], sep=\"\")\n",
    "}\n",
    "\n",
    "write.dbf(parcels, \"Irvine_blocks.dbf\")"
   ]
  },
  {
   "cell_type": "code",
   "execution_count": 4,
   "metadata": {
    "collapsed": true
   },
   "outputs": [],
   "source": [
    "#### (3) Find all establishments within 1 mile. \n",
    "print 'start: ', datetime.datetime.now()\n",
    "\n",
    "# Read in files.  Note: network dataset is NOT found in GitHub Repository.\n",
    "nd = \"\\\\your_network_dataset\"\n",
    "establishments = \"\\\\refusa2009.shp\"\n",
    "arcpy.MakeFeatureLayer_management(establishments, \"estabs_lyr\")\n",
    "types = unique_values(establishments, \"porter_num\")\n",
    "blocks = \"\\\\Irvine_blocks.shp\"\n",
    "arcpy.MakeFeatureLayer_management(blocks, \"blocks_lyr\")\n",
    "\n",
    "# Run network analyst for each establishment type \n",
    "for i in types:\n",
    "    arcpy.SelectLayerByAttribute_management(\"estabs_lyr\", \"NEW_SELECTION\", \" \\\"porter_num\\\" = '%s' \"%i)\n",
    "    outNALayer = arcpy.na.MakeODCostMatrixLayer(nd, \"od_lyr\", \"Distance\", 5280, \"\", [\"Distance\", \"Minutes\"])\n",
    "    arcpy.na.AddLocations(\"od_lyr\", \"Origins\", \"blocks_lyr\", \"#\", \"5000 Meters\")\n",
    "    arcpy.na.AddLocations(\"od_lyr\", \"Destinations\", \"estabs_lyr\", \"#\", \"5000 Meters\")\n",
    "    arcpy.na.Solve(\"od_lyr\", \"SKIP\", \"CONTINUE\")\n",
    "    subLayerNames = arcpy.na.GetNAClassNames(outNALayer.getOutput(0))\n",
    "    lines = subLayerNames[\"ODLines\"]\n",
    "    arcpy.FeatureClassToFeatureClass_conversion(lines, wkspace, \"lines_1mi_%s\"%i) \n",
    "\n",
    "print 'finish ', datetime.datetime.now()"
   ]
  },
  {
   "cell_type": "code",
   "execution_count": null,
   "metadata": {
    "collapsed": true
   },
   "outputs": [],
   "source": [
    "#### (4) Join count of establishments in 1 mile and gravity measure to block shapefile using R. \n",
    "\n",
    "setwd(\"C:/Users/Research/Project\")\n",
    "library(foreign)\n",
    "library(doBy)\n",
    "\n",
    "bl = read.dbf(\"Irvine_blocks.dbf\")\n",
    "bl$ESRI_na = as.numeric(bl$FIDnum + 1)\n",
    "estabs = read.dbf(\"refusa2009.dbf\")\n",
    "types = as.character(unique(unlist(estabs$porter_num))) \n",
    "types = types[!is.na(types)]\n",
    "types = types[!types %in% c(\"none\")]\n",
    "\n",
    "for(i in types){\n",
    "  out = read.dbf(paste(\".lines_1mi_\", types[i], \".dbf\", sep=\"\"))\n",
    "  out$invd_mile = 1/((out$Total_Dist+0.02)/5280)\n",
    "  out$invsq_mile = 1/((out$Total_Dist+0.02)/5280)^2\n",
    "  out$est = 1\n",
    "  outeach = summaryBy(invd_mile + invsq_mile + est ~ OriginID, FUN=sum, data=out)\n",
    "  bl[,ncol(parcels)+1] = outeach$invd_mile[match(bl$ESRI_na, outeach$OriginID)]\n",
    "  bl[,ncol(bl)][is.na(bl[,ncol(bl)])] = 0\n",
    "  colnames(bl)[ncol(bl)] = paste(\"invmi_\", types[i], sep=\"\")\n",
    "  bl[,ncol(bl)+1] = outeach$invsq_mile[match(bl$ESRI_na, outeach$OriginID)]\n",
    "  bl[,ncol(bl)][is.na(bl[,ncol(bl)])] = 0\n",
    "  colnames(bl)[ncol(bl)] = paste(\"invsq_\", types[i], sep=\"\")\n",
    "  bl[,ncol(bl)+1] = outeach$est.sum[match(bl$ESRI_na, outeach$OriginID)]\n",
    "  bl[,ncol(bl)][is.na(bl[,ncol(bl)])] = 0\n",
    "  colnames(bl)[ncol(bl)] = paste(\"num_est_\", types[i], sep=\"\")\n",
    "}\n"
   ]
  },
  {
   "cell_type": "code",
   "execution_count": null,
   "metadata": {
    "collapsed": true
   },
   "outputs": [],
   "source": []
  }
 ],
 "metadata": {
  "kernelspec": {
   "display_name": "Python 2",
   "language": "python",
   "name": "python2"
  },
  "language_info": {
   "codemirror_mode": {
    "name": "ipython",
    "version": 2
   },
   "file_extension": ".py",
   "mimetype": "text/x-python",
   "name": "python",
   "nbconvert_exporter": "python",
   "pygments_lexer": "ipython2",
   "version": "2.7.9"
  }
 },
 "nbformat": 4,
 "nbformat_minor": 0
}
